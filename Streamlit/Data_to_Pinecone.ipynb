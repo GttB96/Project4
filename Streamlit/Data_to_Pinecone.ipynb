{
 "cells": [
  {
   "cell_type": "code",
   "execution_count": 1,
   "id": "e2191b06-b51a-4507-8545-d63fbb9215b2",
   "metadata": {},
   "outputs": [
    {
     "name": "stderr",
     "output_type": "stream",
     "text": [
      "You try to use a model that was created with version 3.0.0.dev0, however, your version is 3.0.0. This might cause unexpected behavior or errors. In that case, try to update to the latest version.\n",
      "\n",
      "\n",
      "\n",
      "C:\\Users\\corey\\anaconda3\\envs\\dev\\lib\\site-packages\\huggingface_hub\\file_download.py:1132: FutureWarning: `resume_download` is deprecated and will be removed in version 1.0.0. Downloads always resume when possible. If you want to force a new download, use `force_download=True`.\n",
      "  warnings.warn(\n"
     ]
    },
    {
     "name": "stdout",
     "output_type": "stream",
     "text": [
      "Data uploaded to Pinecone successfully.\n"
     ]
    }
   ],
   "source": [
    "# Resources can be found at https://docs.pinecone.io/home\n",
    "import os\n",
    "import json\n",
    "from pinecone import Pinecone, ServerlessSpec, Index\n",
    "from sentence_transformers import SentenceTransformer\n",
    "from dotenv import load_dotenv\n",
    "\n",
    "# Load environment variables from .env file\n",
    "load_dotenv()\n",
    "\n",
    "# Retrieve the API key from environment variable\n",
    "api_key = os.getenv('PINECONE_API_KEY')\n",
    "\n",
    "# Initialize Pinecone\n",
    "pc = Pinecone(api_key=api_key)\n",
    "index_name = 'coreyapp'\n",
    "\n",
    "# Checking for Index in Pinecone\n",
    "if index_name not in pc.list_indexes().names():\n",
    "    pc.create_index(\n",
    "        name=index_name,\n",
    "        dimension=768,  # Dimension needs to match the dimension in Pinecone\n",
    "        metric='cosine', \n",
    "        spec=ServerlessSpec(\n",
    "            cloud='aws',\n",
    "            region='us-east-1'\n",
    "        )\n",
    "    )\n",
    "\n",
    "# Get the host for the index\n",
    "index_info = pc.describe_index(index_name)\n",
    "host = index_info['host']\n",
    "index = Index(name=index_name, host=host, api_key=api_key)\n",
    "\n",
    "# Load the embedding model\n",
    "model = SentenceTransformer('multi-qa-mpnet-base-dot-v1')\n",
    "\n",
    "# Load the JSON converted file\n",
    "json_file_path = '../SpaCy_Extracted_Data/PINECONE_TAGGED_MASTERDATA_Class.json'\n",
    "with open(json_file_path, 'r', encoding='utf-8') as f:\n",
    "    recipes = json.load(f)\n",
    "\n",
    "# Embedding function\n",
    "def embed_recipe(ingredients):\n",
    "    ingredients_str = ' '.join([ingredient['ingredient'] for ingredient in ingredients])\n",
    "    embedding = model.encode(ingredients_str)\n",
    "    return embedding\n",
    "\n",
    "# Upload the data to Pinecone\n",
    "for recipe in recipes:\n",
    "    embedding = embed_recipe(recipe['tagged_ingredients'])\n",
    "    metadata = {\n",
    "        \"name\": recipe[\"name\"],\n",
    "        \"url\": recipe[\"url\"],\n",
    "        \"ingredients\": ', '.join([ingredient['ingredient'] for ingredient in recipe['tagged_ingredients']])\n",
    "    }\n",
    "    index.upsert([(recipe['url'], embedding, metadata)])\n",
    "\n",
    "print(\"Data uploaded to Pinecone successfully.\")"
   ]
  }
 ],
 "metadata": {
  "kernelspec": {
   "display_name": "Python (dev)",
   "language": "python",
   "name": "dev"
  },
  "language_info": {
   "codemirror_mode": {
    "name": "ipython",
    "version": 3
   },
   "file_extension": ".py",
   "mimetype": "text/x-python",
   "name": "python",
   "nbconvert_exporter": "python",
   "pygments_lexer": "ipython3",
   "version": "3.10.13"
  }
 },
 "nbformat": 4,
 "nbformat_minor": 5
}
