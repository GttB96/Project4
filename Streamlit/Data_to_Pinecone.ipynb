{
 "cells": [
  {
   "cell_type": "code",
   "execution_count": 1,
   "id": "e2191b06-b51a-4507-8545-d63fbb9215b2",
   "metadata": {},
   "outputs": [
    {
     "name": "stderr",
     "output_type": "stream",
     "text": [
      "You try to use a model that was created with version 3.0.0.dev0, however, your version is 3.0.0. This might cause unexpected behavior or errors. In that case, try to update to the latest version.\n",
      "\n",
      "\n",
      "\n",
      "C:\\Users\\corey\\anaconda3\\envs\\dev\\lib\\site-packages\\huggingface_hub\\file_download.py:1132: FutureWarning: `resume_download` is deprecated and will be removed in version 1.0.0. Downloads always resume when possible. If you want to force a new download, use `force_download=True`.\n",
      "  warnings.warn(\n"
     ]
    },
    {
     "name": "stdout",
     "output_type": "stream",
     "text": [
      "Data uploaded to Pinecone successfully.\n"
     ]
    }
   ],
   "source": [
    "import os\n",
    "import json\n",
    "from pinecone import Pinecone, ServerlessSpec, Index\n",
    "from sentence_transformers import SentenceTransformer\n",
    "\n",
    "# Initialize Pinecone\n",
    "pc = Pinecone(\n",
    "    api_key='3d87982d-aa12-4905-aa83-976f592e8c1b'\n",
    ")\n",
    "\n",
    "index_name = 'coreyapp'\n",
    "\n",
    "# Check if the index already exists (if not, create it)\n",
    "if index_name not in pc.list_indexes().names():\n",
    "    pc.create_index(\n",
    "        name=index_name,\n",
    "        dimension=768,  # Dimension should match the embedding model output size\n",
    "        metric='cosine',  # or any other metric of your choice\n",
    "        spec=ServerlessSpec(\n",
    "            cloud='aws',\n",
    "            region='us-east-1'\n",
    "        )\n",
    "    )\n",
    "\n",
    "# Get the host for the index\n",
    "index_info = pc.describe_index(index_name)\n",
    "host = index_info['host']\n",
    "\n",
    "# Connect to the index\n",
    "index = Index(name=index_name, host=host, api_key='3d87982d-aa12-4905-aa83-976f592e8c1b')\n",
    "\n",
    "# Load the embedding model\n",
    "model = SentenceTransformer('multi-qa-mpnet-base-dot-v1')\n",
    "\n",
    "# Load the JSON data\n",
    "json_file_path = '../SpaCy_Extracted_Data/PINECONE_TAGGED_MASTERDATA_Class.json'\n",
    "with open(json_file_path, 'r', encoding='utf-8') as f:\n",
    "    recipes = json.load(f)\n",
    "\n",
    "# Embedding function\n",
    "def embed_recipe(ingredients):\n",
    "    ingredients_str = ' '.join([ingredient['ingredient'] for ingredient in ingredients])\n",
    "    embedding = model.encode(ingredients_str)\n",
    "    return embedding\n",
    "\n",
    "# Prepare and upload data to Pinecone\n",
    "for recipe in recipes:\n",
    "    embedding = embed_recipe(recipe['tagged_ingredients'])\n",
    "    metadata = {\n",
    "        \"name\": recipe[\"name\"],\n",
    "        \"url\": recipe[\"url\"],\n",
    "        \"ingredients\": ', '.join([ingredient['ingredient'] for ingredient in recipe['tagged_ingredients']])\n",
    "    }\n",
    "    index.upsert([(recipe['url'], embedding, metadata)])\n",
    "\n",
    "print(\"Data uploaded to Pinecone successfully.\")\n"
   ]
  },
  {
   "cell_type": "code",
   "execution_count": null,
   "id": "a808685b-2eea-4006-ac7f-c92430325344",
   "metadata": {},
   "outputs": [],
   "source": []
  },
  {
   "cell_type": "code",
   "execution_count": 8,
   "id": "09fef702-242a-4f42-bbbf-97bbec08c8b3",
   "metadata": {},
   "outputs": [
    {
     "name": "stdout",
     "output_type": "stream",
     "text": [
      "{'dimension': 384,\n",
      " 'host': 'coreytest-i1yh0gi.svc.aped-4627-b74a.pinecone.io',\n",
      " 'metric': 'cosine',\n",
      " 'name': 'coreytest',\n",
      " 'spec': {'serverless': {'cloud': 'aws', 'region': 'us-east-1'}},\n",
      " 'status': {'ready': True, 'state': 'Ready'}}\n"
     ]
    },
    {
     "ename": "PineconeApiAttributeError",
     "evalue": "IndexModelStatus has no attribute 'host' at ['['received_data', 'status']']['host']",
     "output_type": "error",
     "traceback": [
      "\u001b[1;31m---------------------------------------------------------------------------\u001b[0m",
      "\u001b[1;31mPineconeApiAttributeError\u001b[0m                 Traceback (most recent call last)",
      "Cell \u001b[1;32mIn[8], line 3\u001b[0m\n\u001b[0;32m      1\u001b[0m index_info \u001b[38;5;241m=\u001b[39m pc\u001b[38;5;241m.\u001b[39mdescribe_index(index_name)\n\u001b[0;32m      2\u001b[0m \u001b[38;5;28mprint\u001b[39m(index_info)  \u001b[38;5;66;03m# Add this line to inspect the structure of the index_info\u001b[39;00m\n\u001b[1;32m----> 3\u001b[0m host \u001b[38;5;241m=\u001b[39m \u001b[43mindex_info\u001b[49m\u001b[43m[\u001b[49m\u001b[38;5;124;43m'\u001b[39;49m\u001b[38;5;124;43mstatus\u001b[39;49m\u001b[38;5;124;43m'\u001b[39;49m\u001b[43m]\u001b[49m\u001b[43m[\u001b[49m\u001b[38;5;124;43m'\u001b[39;49m\u001b[38;5;124;43mhost\u001b[39;49m\u001b[38;5;124;43m'\u001b[39;49m\u001b[43m]\u001b[49m\n",
      "File \u001b[1;32m~\\anaconda3\\envs\\dev\\lib\\site-packages\\pinecone\\core\\client\\model_utils.py:496\u001b[0m, in \u001b[0;36mModelNormal.__getitem__\u001b[1;34m(self, name)\u001b[0m\n\u001b[0;32m    493\u001b[0m \u001b[38;5;28;01mif\u001b[39;00m name \u001b[38;5;129;01min\u001b[39;00m \u001b[38;5;28mself\u001b[39m:\n\u001b[0;32m    494\u001b[0m     \u001b[38;5;28;01mreturn\u001b[39;00m \u001b[38;5;28mself\u001b[39m\u001b[38;5;241m.\u001b[39mget(name)\n\u001b[1;32m--> 496\u001b[0m \u001b[38;5;28;01mraise\u001b[39;00m PineconeApiAttributeError(\n\u001b[0;32m    497\u001b[0m     \u001b[38;5;124m\"\u001b[39m\u001b[38;5;132;01m{0}\u001b[39;00m\u001b[38;5;124m has no attribute \u001b[39m\u001b[38;5;124m'\u001b[39m\u001b[38;5;132;01m{1}\u001b[39;00m\u001b[38;5;124m'\u001b[39m\u001b[38;5;124m\"\u001b[39m\u001b[38;5;241m.\u001b[39mformat(\n\u001b[0;32m    498\u001b[0m         \u001b[38;5;28mtype\u001b[39m(\u001b[38;5;28mself\u001b[39m)\u001b[38;5;241m.\u001b[39m\u001b[38;5;18m__name__\u001b[39m, name),\n\u001b[0;32m    499\u001b[0m     [e \u001b[38;5;28;01mfor\u001b[39;00m e \u001b[38;5;129;01min\u001b[39;00m [\u001b[38;5;28mself\u001b[39m\u001b[38;5;241m.\u001b[39m_path_to_item, name] \u001b[38;5;28;01mif\u001b[39;00m e]\n\u001b[0;32m    500\u001b[0m )\n",
      "\u001b[1;31mPineconeApiAttributeError\u001b[0m: IndexModelStatus has no attribute 'host' at ['['received_data', 'status']']['host']"
     ]
    }
   ],
   "source": [
    "index_info = pc.describe_index(index_name)\n",
    "print(index_info)  # Add this line to inspect the structure of the index_info\n",
    "host = index_info['status']['host']  # Ensure the correct path to get the host"
   ]
  },
  {
   "cell_type": "code",
   "execution_count": null,
   "id": "62c2edd8-ba08-426b-8a01-25804e0b8f9d",
   "metadata": {},
   "outputs": [],
   "source": []
  }
 ],
 "metadata": {
  "kernelspec": {
   "display_name": "Python (dev)",
   "language": "python",
   "name": "dev"
  },
  "language_info": {
   "codemirror_mode": {
    "name": "ipython",
    "version": 3
   },
   "file_extension": ".py",
   "mimetype": "text/x-python",
   "name": "python",
   "nbconvert_exporter": "python",
   "pygments_lexer": "ipython3",
   "version": "3.10.13"
  }
 },
 "nbformat": 4,
 "nbformat_minor": 5
}
