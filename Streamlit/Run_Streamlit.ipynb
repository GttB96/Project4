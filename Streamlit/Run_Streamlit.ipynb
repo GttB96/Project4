{
 "cells": [
  {
   "cell_type": "code",
   "execution_count": null,
   "id": "7061cf8c-e59f-48e8-aec9-1f40768f3909",
   "metadata": {},
   "outputs": [],
   "source": [
    "import streamlit as st\n",
    "import pinecone\n",
    "from sentence_transformers import SentenceTransformer, util\n",
    "import numpy as np\n",
    "\n",
    "# Initialize Pinecone\n",
    "pinecone.init(api_key='3d87982d-aa12-4905-aa83-976f592e8c1b', environment='us-east-1-aws')\n",
    "index_name = 'coreytest'\n",
    "\n",
    "# Connect to the Pinecone index\n",
    "index = pinecone.Index(index_name)\n",
    "\n",
    "# Load the embedding model\n",
    "model = SentenceTransformer('multi-qa-mpnet-base-dot-v1')\n",
    "\n",
    "# Function to embed user input\n",
    "def embed_ingredients(ingredients):\n",
    "    ingredients_str = ' '.join(ingredients)\n",
    "    embedding = model.encode(ingredients_str, convert_to_tensor=True)\n",
    "    return embedding\n",
    "\n",
    "# Streamlit UI\n",
    "st.title(\"Recipe Finder\")\n",
    "st.write(\"Enter ingredients to find the best matching recipes:\")\n",
    "\n",
    "# Input ingredients\n",
    "ingredients_input = st.text_area(\"Ingredients (comma-separated)\", \"tomato, basil, garlic\")\n",
    "\n",
    "if st.button(\"Find Recipes\"):\n",
    "    if ingredients_input:\n",
    "        ingredients_list = [ingredient.strip() for ingredient in ingredients_input.split(',')]\n",
    "        user_embedding = embed_ingredients(ingredients_list)\n",
    "        \n",
    "        # Query Pinecone to get embeddings and metadata\n",
    "        results = index.query(user_embedding.cpu().numpy().tolist(), top_k=5, include_metadata=True)\n",
    "\n",
    "        # Process results\n",
    "        st.write(\"Here are the best matching recipes:\")\n",
    "        for match in results['matches']:\n",
    "            recipe = match['metadata']\n",
    "            st.write(f\"### {recipe['name']}\")\n",
    "            st.write(f\"[Link to recipe]({recipe['url']})\")\n",
    "            st.write(f\"**Ingredients:** {recipe['ingredients']}\")\n",
    "            st.write(f\"**Score:** {match['score']}\")\n",
    "            st.write(\"---\")\n",
    "\n",
    "# Running Streamlit app\n",
    "if __name__ == \"__main__\":\n",
    "    st._is_running_with_streamlit = True\n",
    "    st.run()\n"
   ]
  }
 ],
 "metadata": {
  "kernelspec": {
   "display_name": "Python (dev)",
   "language": "python",
   "name": "dev"
  },
  "language_info": {
   "codemirror_mode": {
    "name": "ipython",
    "version": 3
   },
   "file_extension": ".py",
   "mimetype": "text/x-python",
   "name": "python",
   "nbconvert_exporter": "python",
   "pygments_lexer": "ipython3",
   "version": "3.10.13"
  }
 },
 "nbformat": 4,
 "nbformat_minor": 5
}
